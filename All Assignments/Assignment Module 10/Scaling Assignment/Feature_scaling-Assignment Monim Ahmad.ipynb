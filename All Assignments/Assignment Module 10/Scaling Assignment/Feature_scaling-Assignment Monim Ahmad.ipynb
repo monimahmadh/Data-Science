{
 "cells": [
  {
   "cell_type": "markdown",
   "id": "3466b3d9",
   "metadata": {},
   "source": [
    "### Read data from income.csv and scale the relevant features using standardization"
   ]
  },
  {
   "cell_type": "code",
   "execution_count": 7,
   "id": "731e019d",
   "metadata": {},
   "outputs": [],
   "source": [
    "import pandas as pd \n",
    "from sklearn.preprocessing import StandardScaler\n"
   ]
  },
  {
   "cell_type": "code",
   "execution_count": 8,
   "id": "d778ceb0",
   "metadata": {},
   "outputs": [
    {
     "data": {
      "text/html": [
       "<div>\n",
       "<style scoped>\n",
       "    .dataframe tbody tr th:only-of-type {\n",
       "        vertical-align: middle;\n",
       "    }\n",
       "\n",
       "    .dataframe tbody tr th {\n",
       "        vertical-align: top;\n",
       "    }\n",
       "\n",
       "    .dataframe thead th {\n",
       "        text-align: right;\n",
       "    }\n",
       "</style>\n",
       "<table border=\"1\" class=\"dataframe\">\n",
       "  <thead>\n",
       "    <tr style=\"text-align: right;\">\n",
       "      <th></th>\n",
       "      <th>Name</th>\n",
       "      <th>Age</th>\n",
       "      <th>Income</th>\n",
       "      <th>Buy</th>\n",
       "    </tr>\n",
       "  </thead>\n",
       "  <tbody>\n",
       "    <tr>\n",
       "      <th>0</th>\n",
       "      <td>Rob</td>\n",
       "      <td>27</td>\n",
       "      <td>70000</td>\n",
       "      <td>Yes</td>\n",
       "    </tr>\n",
       "    <tr>\n",
       "      <th>1</th>\n",
       "      <td>Michael</td>\n",
       "      <td>29</td>\n",
       "      <td>90000</td>\n",
       "      <td>No</td>\n",
       "    </tr>\n",
       "    <tr>\n",
       "      <th>2</th>\n",
       "      <td>Mohan</td>\n",
       "      <td>29</td>\n",
       "      <td>61000</td>\n",
       "      <td>Yes</td>\n",
       "    </tr>\n",
       "    <tr>\n",
       "      <th>3</th>\n",
       "      <td>Ismail</td>\n",
       "      <td>28</td>\n",
       "      <td>60000</td>\n",
       "      <td>Yes</td>\n",
       "    </tr>\n",
       "    <tr>\n",
       "      <th>4</th>\n",
       "      <td>Kory</td>\n",
       "      <td>42</td>\n",
       "      <td>150000</td>\n",
       "      <td>No</td>\n",
       "    </tr>\n",
       "  </tbody>\n",
       "</table>\n",
       "</div>"
      ],
      "text/plain": [
       "      Name  Age  Income  Buy\n",
       "0      Rob   27   70000  Yes\n",
       "1  Michael   29   90000   No\n",
       "2    Mohan   29   61000  Yes\n",
       "3   Ismail   28   60000  Yes\n",
       "4     Kory   42  150000   No"
      ]
     },
     "execution_count": 8,
     "metadata": {},
     "output_type": "execute_result"
    }
   ],
   "source": [
    "df = pd.read_csv(\"income.csv\")\n",
    "df.head()"
   ]
  },
  {
   "cell_type": "code",
   "execution_count": 9,
   "id": "3d7792ab",
   "metadata": {},
   "outputs": [],
   "source": [
    "for_scale = df[[\"Age\",\"Income\"]]\n",
    "STD = StandardScaler()\n",
    "scaled = STD.fit_transform(for_scale)"
   ]
  },
  {
   "cell_type": "code",
   "execution_count": 10,
   "id": "ebf3796e",
   "metadata": {},
   "outputs": [
    {
     "data": {
      "text/plain": [
       "array([[-1.35605536, -0.48068427],\n",
       "       [-1.00915747, -0.01015907],\n",
       "       [-1.00915747, -0.69242061],\n",
       "       [-1.18260641, -0.71594687],\n",
       "       [ 1.24567876,  1.40141653],\n",
       "       [ 0.72533193,  1.51904783],\n",
       "       [ 1.07222982,  1.63667914],\n",
       "       [ 0.55188299,  1.68373166],\n",
       "       [ 0.20498511,  1.54257409],\n",
       "       [ 0.03153617,  0.93089133],\n",
       "       [ 0.37843405,  1.09557515],\n",
       "       [-1.5295043 , -1.06884077],\n",
       "       [-1.35605536, -0.99826199],\n",
       "       [-1.18260641, -0.92768321],\n",
       "       [-1.00915747, -0.9629726 ],\n",
       "       [-0.48881065, -0.88063069],\n",
       "       [ 0.89878087, -0.59831557],\n",
       "       [ 1.07222982, -0.64536809],\n",
       "       [ 1.4191277 , -0.62184183],\n",
       "       [ 0.72533193, -0.24542167],\n",
       "       [ 1.07222982, -0.19836915],\n",
       "       [ 0.72533193, -0.76299939]])"
      ]
     },
     "execution_count": 10,
     "metadata": {},
     "output_type": "execute_result"
    }
   ],
   "source": [
    "scaled"
   ]
  },
  {
   "cell_type": "code",
   "execution_count": null,
   "id": "fb5a00db",
   "metadata": {},
   "outputs": [],
   "source": []
  }
 ],
 "metadata": {
  "kernelspec": {
   "display_name": "Python 3 (ipykernel)",
   "language": "python",
   "name": "python3"
  },
  "language_info": {
   "codemirror_mode": {
    "name": "ipython",
    "version": 3
   },
   "file_extension": ".py",
   "mimetype": "text/x-python",
   "name": "python",
   "nbconvert_exporter": "python",
   "pygments_lexer": "ipython3",
   "version": "3.11.4"
  }
 },
 "nbformat": 4,
 "nbformat_minor": 5
}
