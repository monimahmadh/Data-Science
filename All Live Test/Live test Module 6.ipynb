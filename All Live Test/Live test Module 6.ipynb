{
 "cells": [
  {
   "cell_type": "markdown",
   "metadata": {},
   "source": [
    "# Questions :\n",
    "|    |   A |   b |   C |   D |\n",
    "|---:|----:|----:|----:|----:|\n",
    "|  0 | 21  |  31 | NaN | 46  |\n",
    "|  1 | NaN |  32 | NaN | 47  |\n",
    "|  2 | 22  |  33 | NaN | NaN |\n",
    "|  3 |  4  |  34 | NaN | 48  |\n",
    "|  4 | NaN |  35 | NaN | 49  |\n",
    "\n",
    "Make the following Dataframe by using pandas. Write the functions to see the how many NaN values are in the entire Dataframe? Clean the NaN values using Forward fill, Backward fill, ‘0’ Fill\n",
    "\n",
    "Deadline: 11-1-24 <br>\n",
    "11.00 PM \n",
    "to\n",
    "11.45 PM"
   ]
  },
  {
   "cell_type": "code",
   "execution_count": null,
   "metadata": {},
   "outputs": [],
   "source": []
  },
  {
   "cell_type": "markdown",
   "metadata": {},
   "source": [
    "# Answer"
   ]
  },
  {
   "cell_type": "code",
   "execution_count": 1,
   "metadata": {},
   "outputs": [
    {
     "name": "stdout",
     "output_type": "stream",
     "text": [
      "\n",
      "total NaN value is: 8\n",
      "\n",
      "forward_filled_df :\n",
      "      A   b   C     D\n",
      "0  21.0  31 NaN  46.0\n",
      "1  21.0  32 NaN  47.0\n",
      "2  22.0  33 NaN  47.0\n",
      "3   4.0  34 NaN  48.0\n",
      "4   4.0  35 NaN  49.0\n",
      "\n",
      "backward_filled_df :\n",
      "      A   b   C     D\n",
      "0  21.0  31 NaN  46.0\n",
      "1  22.0  32 NaN  47.0\n",
      "2  22.0  33 NaN  48.0\n",
      "3   4.0  34 NaN  48.0\n",
      "4   NaN  35 NaN  49.0\n",
      "\n",
      "fill_by_0 :\n",
      "      A   b    C     D\n",
      "0  21.0  31  0.0  46.0\n",
      "1   0.0  32  0.0  47.0\n",
      "2  22.0  33  0.0   0.0\n",
      "3   4.0  34  0.0  48.0\n",
      "4   0.0  35  0.0  49.0\n"
     ]
    }
   ],
   "source": [
    "import pandas as pd\n",
    "import numpy as np\n",
    "\n",
    "\n",
    "data_dict = {\"A\": [21, np.nan, 22, 4, np.nan],\n",
    "             \"b\": range(31,36),\n",
    "             \"C\": [np.nan, np.nan, np.nan, np.nan, np.nan,],\n",
    "             \"D\": [46, 47, np.nan, 48,49]}\n",
    "\n",
    "\n",
    "df = pd.DataFrame(data_dict)\n",
    "\n",
    "total_NaN_value = df.isnull().sum().sum()\n",
    "print(f\"\\ntotal NaN value is: {total_NaN_value}\")\n",
    "\n",
    "forward_filled_df = df.fillna(method='ffill')\n",
    "print(f\"\\nforward_filled_df :\\n{forward_filled_df}\")\n",
    "\n",
    "\n",
    "backward_filled_df = df.fillna(method='bfill')\n",
    "print(f\"\\nbackward_filled_df :\\n{backward_filled_df}\")\n",
    "\n",
    "\n",
    "fill_by_0= df.fillna(0)\n",
    "print(f\"\\nfill_by_0 :\\n{fill_by_0}\")"
   ]
  }
 ],
 "metadata": {
  "kernelspec": {
   "display_name": "Python 3",
   "language": "python",
   "name": "python3"
  },
  "language_info": {
   "codemirror_mode": {
    "name": "ipython",
    "version": 3
   },
   "file_extension": ".py",
   "mimetype": "text/x-python",
   "name": "python",
   "nbconvert_exporter": "python",
   "pygments_lexer": "ipython3",
   "version": "3.11.4"
  }
 },
 "nbformat": 4,
 "nbformat_minor": 2
}
